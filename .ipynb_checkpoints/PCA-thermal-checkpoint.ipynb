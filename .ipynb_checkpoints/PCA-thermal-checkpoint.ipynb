{
 "cells": [
  {
   "cell_type": "code",
   "execution_count": 2,
   "metadata": {},
   "outputs": [],
   "source": [
    "import pandas as pd\n",
    "import numpy as np\n",
    "from pandas import Series, DataFrame\n",
    "import pandas as pd"
   ]
  },
  {
   "cell_type": "code",
   "execution_count": 3,
   "metadata": {},
   "outputs": [],
   "source": [
    "dataset_train=pd.read_excel('thermal.xlsx') #excle データをインポート"
   ]
  },
  {
   "cell_type": "code",
   "execution_count": 4,
   "metadata": {},
   "outputs": [
    {
     "data": {
      "text/html": [
       "<div>\n",
       "<style scoped>\n",
       "    .dataframe tbody tr th:only-of-type {\n",
       "        vertical-align: middle;\n",
       "    }\n",
       "\n",
       "    .dataframe tbody tr th {\n",
       "        vertical-align: top;\n",
       "    }\n",
       "\n",
       "    .dataframe thead th {\n",
       "        text-align: right;\n",
       "    }\n",
       "</style>\n",
       "<table border=\"1\" class=\"dataframe\">\n",
       "  <thead>\n",
       "    <tr style=\"text-align: right;\">\n",
       "      <th></th>\n",
       "      <th>t h</th>\n",
       "      <th>Req MΩ</th>\n",
       "      <th>Ceq pF</th>\n",
       "      <th>DFeq</th>\n",
       "      <th>Req pu</th>\n",
       "      <th>Ceq pu</th>\n",
       "      <th>Dfeq pu</th>\n",
       "      <th>ANN output</th>\n",
       "    </tr>\n",
       "  </thead>\n",
       "  <tbody>\n",
       "    <tr>\n",
       "      <th>0</th>\n",
       "      <td>48</td>\n",
       "      <td>590.0</td>\n",
       "      <td>12.5</td>\n",
       "      <td>0.36</td>\n",
       "      <td>0.9410</td>\n",
       "      <td>0.82</td>\n",
       "      <td>1.30</td>\n",
       "      <td>good</td>\n",
       "    </tr>\n",
       "    <tr>\n",
       "      <th>1</th>\n",
       "      <td>96</td>\n",
       "      <td>364.2</td>\n",
       "      <td>10.1</td>\n",
       "      <td>0.72</td>\n",
       "      <td>0.5810</td>\n",
       "      <td>0.66</td>\n",
       "      <td>2.62</td>\n",
       "      <td>good</td>\n",
       "    </tr>\n",
       "    <tr>\n",
       "      <th>2</th>\n",
       "      <td>144</td>\n",
       "      <td>270.6</td>\n",
       "      <td>9.2</td>\n",
       "      <td>1,07</td>\n",
       "      <td>0.4310</td>\n",
       "      <td>0.60</td>\n",
       "      <td>3.89</td>\n",
       "      <td>good</td>\n",
       "    </tr>\n",
       "    <tr>\n",
       "      <th>3</th>\n",
       "      <td>192</td>\n",
       "      <td>211.4</td>\n",
       "      <td>10.5</td>\n",
       "      <td>1.2</td>\n",
       "      <td>0.3470</td>\n",
       "      <td>0.68</td>\n",
       "      <td>4.34</td>\n",
       "      <td>good</td>\n",
       "    </tr>\n",
       "    <tr>\n",
       "      <th>4</th>\n",
       "      <td>240</td>\n",
       "      <td>206.8</td>\n",
       "      <td>10.9</td>\n",
       "      <td>1,18</td>\n",
       "      <td>0.3390</td>\n",
       "      <td>0.71</td>\n",
       "      <td>4.28</td>\n",
       "      <td>good</td>\n",
       "    </tr>\n",
       "    <tr>\n",
       "      <th>5</th>\n",
       "      <td>288</td>\n",
       "      <td>225.1</td>\n",
       "      <td>14.6</td>\n",
       "      <td>0.81</td>\n",
       "      <td>0.3690</td>\n",
       "      <td>0.95</td>\n",
       "      <td>2.94</td>\n",
       "      <td>good</td>\n",
       "    </tr>\n",
       "    <tr>\n",
       "      <th>6</th>\n",
       "      <td>336</td>\n",
       "      <td>244.0</td>\n",
       "      <td>12.4</td>\n",
       "      <td>0.88</td>\n",
       "      <td>0.3990</td>\n",
       "      <td>0.81</td>\n",
       "      <td>3.18</td>\n",
       "      <td>good</td>\n",
       "    </tr>\n",
       "    <tr>\n",
       "      <th>7</th>\n",
       "      <td>384</td>\n",
       "      <td>235.3</td>\n",
       "      <td>13.5</td>\n",
       "      <td>0.84</td>\n",
       "      <td>0.3750</td>\n",
       "      <td>0.88</td>\n",
       "      <td>3.03</td>\n",
       "      <td>good</td>\n",
       "    </tr>\n",
       "    <tr>\n",
       "      <th>8</th>\n",
       "      <td>432</td>\n",
       "      <td>120.1</td>\n",
       "      <td>15.9</td>\n",
       "      <td>1.39</td>\n",
       "      <td>0.1920</td>\n",
       "      <td>1.04</td>\n",
       "      <td>5.04</td>\n",
       "      <td>thermal</td>\n",
       "    </tr>\n",
       "    <tr>\n",
       "      <th>9</th>\n",
       "      <td>480</td>\n",
       "      <td>76.6</td>\n",
       "      <td>14.1</td>\n",
       "      <td>2.45</td>\n",
       "      <td>0.1220</td>\n",
       "      <td>0.92</td>\n",
       "      <td>8.90</td>\n",
       "      <td>thermal</td>\n",
       "    </tr>\n",
       "    <tr>\n",
       "      <th>10</th>\n",
       "      <td>528</td>\n",
       "      <td>22.2</td>\n",
       "      <td>16.0</td>\n",
       "      <td>7,47</td>\n",
       "      <td>0.0450</td>\n",
       "      <td>1.04</td>\n",
       "      <td>27.10</td>\n",
       "      <td>thermal</td>\n",
       "    </tr>\n",
       "    <tr>\n",
       "      <th>11</th>\n",
       "      <td>576</td>\n",
       "      <td>14.6</td>\n",
       "      <td>18.5</td>\n",
       "      <td>9.82</td>\n",
       "      <td>0.0230</td>\n",
       "      <td>1.21</td>\n",
       "      <td>35.60</td>\n",
       "      <td>thermal</td>\n",
       "    </tr>\n",
       "    <tr>\n",
       "      <th>12</th>\n",
       "      <td>624</td>\n",
       "      <td>9.5</td>\n",
       "      <td>11.9</td>\n",
       "      <td>23.39</td>\n",
       "      <td>0.0150</td>\n",
       "      <td>0.78</td>\n",
       "      <td>84.80</td>\n",
       "      <td>thermal</td>\n",
       "    </tr>\n",
       "    <tr>\n",
       "      <th>13</th>\n",
       "      <td>672</td>\n",
       "      <td>2.6</td>\n",
       "      <td>12.3</td>\n",
       "      <td>82.63</td>\n",
       "      <td>0.0040</td>\n",
       "      <td>0.80</td>\n",
       "      <td>300.00</td>\n",
       "      <td>thermal</td>\n",
       "    </tr>\n",
       "    <tr>\n",
       "      <th>14</th>\n",
       "      <td>696</td>\n",
       "      <td>2.0</td>\n",
       "      <td>13.6</td>\n",
       "      <td>98.01</td>\n",
       "      <td>0.0030</td>\n",
       "      <td>0.89</td>\n",
       "      <td>355.00</td>\n",
       "      <td>thermal</td>\n",
       "    </tr>\n",
       "    <tr>\n",
       "      <th>15</th>\n",
       "      <td>720</td>\n",
       "      <td>1.6</td>\n",
       "      <td>14.9</td>\n",
       "      <td>108.11</td>\n",
       "      <td>0.0040</td>\n",
       "      <td>0.97</td>\n",
       "      <td>392.00</td>\n",
       "      <td>thermal</td>\n",
       "    </tr>\n",
       "    <tr>\n",
       "      <th>16</th>\n",
       "      <td>744</td>\n",
       "      <td>1.2</td>\n",
       "      <td>13.4</td>\n",
       "      <td>167.31</td>\n",
       "      <td>0.0020</td>\n",
       "      <td>0.88</td>\n",
       "      <td>606.00</td>\n",
       "      <td>thermal</td>\n",
       "    </tr>\n",
       "    <tr>\n",
       "      <th>17</th>\n",
       "      <td>768</td>\n",
       "      <td>0.8</td>\n",
       "      <td>13.0</td>\n",
       "      <td>249.12</td>\n",
       "      <td>0.0010</td>\n",
       "      <td>0.85</td>\n",
       "      <td>903.00</td>\n",
       "      <td>thermal</td>\n",
       "    </tr>\n",
       "    <tr>\n",
       "      <th>18</th>\n",
       "      <td>792</td>\n",
       "      <td>0.3</td>\n",
       "      <td>21.6</td>\n",
       "      <td>382.14</td>\n",
       "      <td>0.0005</td>\n",
       "      <td>1.41</td>\n",
       "      <td>1385.00</td>\n",
       "      <td>thermal</td>\n",
       "    </tr>\n",
       "  </tbody>\n",
       "</table>\n",
       "</div>"
      ],
      "text/plain": [
       "    t h  Req MΩ  Ceq pF    DFeq  Req pu  Ceq pu  Dfeq pu ANN output\n",
       "0    48   590.0    12.5    0.36  0.9410    0.82     1.30       good\n",
       "1    96   364.2    10.1    0.72  0.5810    0.66     2.62       good\n",
       "2   144   270.6     9.2    1,07  0.4310    0.60     3.89       good\n",
       "3   192   211.4    10.5     1.2  0.3470    0.68     4.34       good\n",
       "4   240   206.8    10.9    1,18  0.3390    0.71     4.28       good\n",
       "5   288   225.1    14.6    0.81  0.3690    0.95     2.94       good\n",
       "6   336   244.0    12.4    0.88  0.3990    0.81     3.18       good\n",
       "7   384   235.3    13.5    0.84  0.3750    0.88     3.03       good\n",
       "8   432   120.1    15.9    1.39  0.1920    1.04     5.04    thermal\n",
       "9   480    76.6    14.1    2.45  0.1220    0.92     8.90    thermal\n",
       "10  528    22.2    16.0    7,47  0.0450    1.04    27.10    thermal\n",
       "11  576    14.6    18.5    9.82  0.0230    1.21    35.60    thermal\n",
       "12  624     9.5    11.9   23.39  0.0150    0.78    84.80    thermal\n",
       "13  672     2.6    12.3   82.63  0.0040    0.80   300.00    thermal\n",
       "14  696     2.0    13.6   98.01  0.0030    0.89   355.00    thermal\n",
       "15  720     1.6    14.9  108.11  0.0040    0.97   392.00    thermal\n",
       "16  744     1.2    13.4  167.31  0.0020    0.88   606.00    thermal\n",
       "17  768     0.8    13.0  249.12  0.0010    0.85   903.00    thermal\n",
       "18  792     0.3    21.6  382.14  0.0005    1.41  1385.00    thermal"
      ]
     },
     "execution_count": 4,
     "metadata": {},
     "output_type": "execute_result"
    }
   ],
   "source": [
    "dataset_train"
   ]
  },
  {
   "cell_type": "code",
   "execution_count": 5,
   "metadata": {},
   "outputs": [],
   "source": [
    "# import some data to play with\n",
    "X = dataset_train.drop(['t h','Req MΩ','Ceq pF','DFeq','ANN output'],axis=1) \n",
    "y = dataset_train['t h'] "
   ]
  },
  {
   "cell_type": "code",
   "execution_count": 6,
   "metadata": {},
   "outputs": [
    {
     "data": {
      "text/html": [
       "<div>\n",
       "<style scoped>\n",
       "    .dataframe tbody tr th:only-of-type {\n",
       "        vertical-align: middle;\n",
       "    }\n",
       "\n",
       "    .dataframe tbody tr th {\n",
       "        vertical-align: top;\n",
       "    }\n",
       "\n",
       "    .dataframe thead th {\n",
       "        text-align: right;\n",
       "    }\n",
       "</style>\n",
       "<table border=\"1\" class=\"dataframe\">\n",
       "  <thead>\n",
       "    <tr style=\"text-align: right;\">\n",
       "      <th></th>\n",
       "      <th>Req pu</th>\n",
       "      <th>Ceq pu</th>\n",
       "      <th>Dfeq pu</th>\n",
       "    </tr>\n",
       "  </thead>\n",
       "  <tbody>\n",
       "    <tr>\n",
       "      <th>0</th>\n",
       "      <td>0.9410</td>\n",
       "      <td>0.82</td>\n",
       "      <td>1.30</td>\n",
       "    </tr>\n",
       "    <tr>\n",
       "      <th>1</th>\n",
       "      <td>0.5810</td>\n",
       "      <td>0.66</td>\n",
       "      <td>2.62</td>\n",
       "    </tr>\n",
       "    <tr>\n",
       "      <th>2</th>\n",
       "      <td>0.4310</td>\n",
       "      <td>0.60</td>\n",
       "      <td>3.89</td>\n",
       "    </tr>\n",
       "    <tr>\n",
       "      <th>3</th>\n",
       "      <td>0.3470</td>\n",
       "      <td>0.68</td>\n",
       "      <td>4.34</td>\n",
       "    </tr>\n",
       "    <tr>\n",
       "      <th>4</th>\n",
       "      <td>0.3390</td>\n",
       "      <td>0.71</td>\n",
       "      <td>4.28</td>\n",
       "    </tr>\n",
       "    <tr>\n",
       "      <th>5</th>\n",
       "      <td>0.3690</td>\n",
       "      <td>0.95</td>\n",
       "      <td>2.94</td>\n",
       "    </tr>\n",
       "    <tr>\n",
       "      <th>6</th>\n",
       "      <td>0.3990</td>\n",
       "      <td>0.81</td>\n",
       "      <td>3.18</td>\n",
       "    </tr>\n",
       "    <tr>\n",
       "      <th>7</th>\n",
       "      <td>0.3750</td>\n",
       "      <td>0.88</td>\n",
       "      <td>3.03</td>\n",
       "    </tr>\n",
       "    <tr>\n",
       "      <th>8</th>\n",
       "      <td>0.1920</td>\n",
       "      <td>1.04</td>\n",
       "      <td>5.04</td>\n",
       "    </tr>\n",
       "    <tr>\n",
       "      <th>9</th>\n",
       "      <td>0.1220</td>\n",
       "      <td>0.92</td>\n",
       "      <td>8.90</td>\n",
       "    </tr>\n",
       "    <tr>\n",
       "      <th>10</th>\n",
       "      <td>0.0450</td>\n",
       "      <td>1.04</td>\n",
       "      <td>27.10</td>\n",
       "    </tr>\n",
       "    <tr>\n",
       "      <th>11</th>\n",
       "      <td>0.0230</td>\n",
       "      <td>1.21</td>\n",
       "      <td>35.60</td>\n",
       "    </tr>\n",
       "    <tr>\n",
       "      <th>12</th>\n",
       "      <td>0.0150</td>\n",
       "      <td>0.78</td>\n",
       "      <td>84.80</td>\n",
       "    </tr>\n",
       "    <tr>\n",
       "      <th>13</th>\n",
       "      <td>0.0040</td>\n",
       "      <td>0.80</td>\n",
       "      <td>300.00</td>\n",
       "    </tr>\n",
       "    <tr>\n",
       "      <th>14</th>\n",
       "      <td>0.0030</td>\n",
       "      <td>0.89</td>\n",
       "      <td>355.00</td>\n",
       "    </tr>\n",
       "    <tr>\n",
       "      <th>15</th>\n",
       "      <td>0.0040</td>\n",
       "      <td>0.97</td>\n",
       "      <td>392.00</td>\n",
       "    </tr>\n",
       "    <tr>\n",
       "      <th>16</th>\n",
       "      <td>0.0020</td>\n",
       "      <td>0.88</td>\n",
       "      <td>606.00</td>\n",
       "    </tr>\n",
       "    <tr>\n",
       "      <th>17</th>\n",
       "      <td>0.0010</td>\n",
       "      <td>0.85</td>\n",
       "      <td>903.00</td>\n",
       "    </tr>\n",
       "    <tr>\n",
       "      <th>18</th>\n",
       "      <td>0.0005</td>\n",
       "      <td>1.41</td>\n",
       "      <td>1385.00</td>\n",
       "    </tr>\n",
       "  </tbody>\n",
       "</table>\n",
       "</div>"
      ],
      "text/plain": [
       "    Req pu  Ceq pu  Dfeq pu\n",
       "0   0.9410    0.82     1.30\n",
       "1   0.5810    0.66     2.62\n",
       "2   0.4310    0.60     3.89\n",
       "3   0.3470    0.68     4.34\n",
       "4   0.3390    0.71     4.28\n",
       "5   0.3690    0.95     2.94\n",
       "6   0.3990    0.81     3.18\n",
       "7   0.3750    0.88     3.03\n",
       "8   0.1920    1.04     5.04\n",
       "9   0.1220    0.92     8.90\n",
       "10  0.0450    1.04    27.10\n",
       "11  0.0230    1.21    35.60\n",
       "12  0.0150    0.78    84.80\n",
       "13  0.0040    0.80   300.00\n",
       "14  0.0030    0.89   355.00\n",
       "15  0.0040    0.97   392.00\n",
       "16  0.0020    0.88   606.00\n",
       "17  0.0010    0.85   903.00\n",
       "18  0.0005    1.41  1385.00"
      ]
     },
     "execution_count": 6,
     "metadata": {},
     "output_type": "execute_result"
    }
   ],
   "source": [
    "X"
   ]
  },
  {
   "cell_type": "code",
   "execution_count": 7,
   "metadata": {},
   "outputs": [
    {
     "data": {
      "text/plain": [
       "LinearRegression(copy_X=True, fit_intercept=True, n_jobs=None, normalize=False)"
      ]
     },
     "execution_count": 7,
     "metadata": {},
     "output_type": "execute_result"
    }
   ],
   "source": [
    "from sklearn.linear_model import LinearRegression\n",
    "import numpy as np\n",
    "\n",
    "model_lr = LinearRegression()\n",
    "model_lr.fit(X, y)"
   ]
  },
  {
   "cell_type": "code",
   "execution_count": 8,
   "metadata": {},
   "outputs": [
    {
     "name": "stdout",
     "output_type": "stream",
     "text": [
      "[-6.86996745e+02  9.09614710e+01  1.92084522e-01]\n",
      "490.0391179557603\n",
      "0.9160687005076872\n"
     ]
    }
   ],
   "source": [
    "print(model_lr.coef_)\n",
    "print(model_lr.intercept_)\n",
    "print(model_lr.score(X, y))"
   ]
  },
  {
   "cell_type": "code",
   "execution_count": 9,
   "metadata": {},
   "outputs": [],
   "source": [
    "predict_result = model_lr.predict(X)"
   ]
  },
  {
   "cell_type": "code",
   "execution_count": 10,
   "metadata": {},
   "outputs": [
    {
     "data": {
      "text/plain": [
       "array([-81.58670307, 151.43184137, 249.26761222, 314.33869452,\n",
       "       322.55198754, 323.51544496, 290.21703696, 313.04344913,\n",
       "       453.70377873, 491.61962062, 558.92968482, 591.13978172,\n",
       "       566.97288164, 617.68566444, 637.1238423 , 650.82089056,\n",
       "       685.11443942, 740.12169514, 883.98835699])"
      ]
     },
     "execution_count": 10,
     "metadata": {},
     "output_type": "execute_result"
    }
   ],
   "source": [
    "predict_result"
   ]
  },
  {
   "cell_type": "code",
   "execution_count": 11,
   "metadata": {},
   "outputs": [
    {
     "data": {
      "text/html": [
       "<div>\n",
       "<style scoped>\n",
       "    .dataframe tbody tr th:only-of-type {\n",
       "        vertical-align: middle;\n",
       "    }\n",
       "\n",
       "    .dataframe tbody tr th {\n",
       "        vertical-align: top;\n",
       "    }\n",
       "\n",
       "    .dataframe thead th {\n",
       "        text-align: right;\n",
       "    }\n",
       "</style>\n",
       "<table border=\"1\" class=\"dataframe\">\n",
       "  <thead>\n",
       "    <tr style=\"text-align: right;\">\n",
       "      <th></th>\n",
       "      <th>Experimental time data(t h)</th>\n",
       "      <th>Prediction time data</th>\n",
       "    </tr>\n",
       "  </thead>\n",
       "  <tbody>\n",
       "    <tr>\n",
       "      <th>0</th>\n",
       "      <td>48</td>\n",
       "      <td>-81.586703</td>\n",
       "    </tr>\n",
       "    <tr>\n",
       "      <th>1</th>\n",
       "      <td>96</td>\n",
       "      <td>151.431841</td>\n",
       "    </tr>\n",
       "    <tr>\n",
       "      <th>2</th>\n",
       "      <td>144</td>\n",
       "      <td>249.267612</td>\n",
       "    </tr>\n",
       "    <tr>\n",
       "      <th>3</th>\n",
       "      <td>192</td>\n",
       "      <td>314.338695</td>\n",
       "    </tr>\n",
       "    <tr>\n",
       "      <th>4</th>\n",
       "      <td>240</td>\n",
       "      <td>322.551988</td>\n",
       "    </tr>\n",
       "    <tr>\n",
       "      <th>5</th>\n",
       "      <td>288</td>\n",
       "      <td>323.515445</td>\n",
       "    </tr>\n",
       "    <tr>\n",
       "      <th>6</th>\n",
       "      <td>336</td>\n",
       "      <td>290.217037</td>\n",
       "    </tr>\n",
       "    <tr>\n",
       "      <th>7</th>\n",
       "      <td>384</td>\n",
       "      <td>313.043449</td>\n",
       "    </tr>\n",
       "    <tr>\n",
       "      <th>8</th>\n",
       "      <td>432</td>\n",
       "      <td>453.703779</td>\n",
       "    </tr>\n",
       "    <tr>\n",
       "      <th>9</th>\n",
       "      <td>480</td>\n",
       "      <td>491.619621</td>\n",
       "    </tr>\n",
       "    <tr>\n",
       "      <th>10</th>\n",
       "      <td>528</td>\n",
       "      <td>558.929685</td>\n",
       "    </tr>\n",
       "    <tr>\n",
       "      <th>11</th>\n",
       "      <td>576</td>\n",
       "      <td>591.139782</td>\n",
       "    </tr>\n",
       "    <tr>\n",
       "      <th>12</th>\n",
       "      <td>624</td>\n",
       "      <td>566.972882</td>\n",
       "    </tr>\n",
       "    <tr>\n",
       "      <th>13</th>\n",
       "      <td>672</td>\n",
       "      <td>617.685664</td>\n",
       "    </tr>\n",
       "    <tr>\n",
       "      <th>14</th>\n",
       "      <td>696</td>\n",
       "      <td>637.123842</td>\n",
       "    </tr>\n",
       "    <tr>\n",
       "      <th>15</th>\n",
       "      <td>720</td>\n",
       "      <td>650.820891</td>\n",
       "    </tr>\n",
       "    <tr>\n",
       "      <th>16</th>\n",
       "      <td>744</td>\n",
       "      <td>685.114439</td>\n",
       "    </tr>\n",
       "    <tr>\n",
       "      <th>17</th>\n",
       "      <td>768</td>\n",
       "      <td>740.121695</td>\n",
       "    </tr>\n",
       "    <tr>\n",
       "      <th>18</th>\n",
       "      <td>792</td>\n",
       "      <td>883.988357</td>\n",
       "    </tr>\n",
       "  </tbody>\n",
       "</table>\n",
       "</div>"
      ],
      "text/plain": [
       "    Experimental time data(t h)  Prediction time data\n",
       "0                            48            -81.586703\n",
       "1                            96            151.431841\n",
       "2                           144            249.267612\n",
       "3                           192            314.338695\n",
       "4                           240            322.551988\n",
       "5                           288            323.515445\n",
       "6                           336            290.217037\n",
       "7                           384            313.043449\n",
       "8                           432            453.703779\n",
       "9                           480            491.619621\n",
       "10                          528            558.929685\n",
       "11                          576            591.139782\n",
       "12                          624            566.972882\n",
       "13                          672            617.685664\n",
       "14                          696            637.123842\n",
       "15                          720            650.820891\n",
       "16                          744            685.114439\n",
       "17                          768            740.121695\n",
       "18                          792            883.988357"
      ]
     },
     "execution_count": 11,
     "metadata": {},
     "output_type": "execute_result"
    }
   ],
   "source": [
    "result = pd.DataFrame(y)\n",
    "result['lr'] = predict_result\n",
    "col_names = ['Experimental time data(t h)','Prediction time data']\n",
    "result.columns=col_names\n",
    "result"
   ]
  },
  {
   "cell_type": "code",
   "execution_count": 12,
   "metadata": {
    "scrolled": true
   },
   "outputs": [
    {
     "data": {
      "text/plain": [
       "<seaborn.axisgrid.FacetGrid at 0x13fe6abd128>"
      ]
     },
     "execution_count": 12,
     "metadata": {},
     "output_type": "execute_result"
    }
   ],
   "source": [
    "import seaborn as sns\n",
    "\n",
    "sns.lmplot(x=\"Experimental time data(t h)\",y=\"Prediction time data\",data=result,fit_reg=False)"
   ]
  },
  {
   "cell_type": "code",
   "execution_count": 13,
   "metadata": {},
   "outputs": [
    {
     "data": {
      "text/plain": [
       "<seaborn.axisgrid.FacetGrid at 0x13fe83c2a58>"
      ]
     },
     "execution_count": 13,
     "metadata": {},
     "output_type": "execute_result"
    },
    {
     "data": {
      "image/png": "[encoded data removed]",
      "text/plain": [
       "<Figure size 360x360 with 1 Axes>"
      ]
     },
     "metadata": {
      "needs_background": "light"
     },
     "output_type": "display_data"
    }
   ],
   "source": [
    "sns.lmplot(x=\"Req pu\",y=\"t h\",data=dataset_train,fit_reg=False)"
   ]
  },
  {
   "cell_type": "code",
   "execution_count": 14,
   "metadata": {},
   "outputs": [
    {
     "data": {
      "text/plain": [
       "<seaborn.axisgrid.FacetGrid at 0x13fe8470b00>"
      ]
     },
     "execution_count": 14,
     "metadata": {},
     "output_type": "execute_result"
    },
    {
     "data": {
      "image/png": "[encoded data removed]",
      "text/plain": [
       "<Figure size 360x360 with 1 Axes>"
      ]
     },
     "metadata": {
      "needs_background": "light"
     },
     "output_type": "display_data"
    }
   ],
   "source": [
    "sns.lmplot(x=\"Ceq pu\",y=\"t h\",data=dataset_train,fit_reg=False)"
   ]
  },
  {
   "cell_type": "code",
   "execution_count": 15,
   "metadata": {},
   "outputs": [
    {
     "data": {
      "text/plain": [
       "<seaborn.axisgrid.FacetGrid at 0x13fe84d59b0>"
      ]
     },
     "execution_count": 15,
     "metadata": {},
     "output_type": "execute_result"
    },
    {
     "data": {
      "image/png": "[encoded data removed]",
      "text/plain": [
       "<Figure size 360x360 with 1 Axes>"
      ]
     },
     "metadata": {
      "needs_background": "light"
     },
     "output_type": "display_data"
    }
   ],
   "source": [
    "sns.lmplot(x=\"Dfeq pu\",y=\"t h\",data=dataset_train,fit_reg=False)"
   ]
  },
  {
   "cell_type": "code",
   "execution_count": 17,
   "metadata": {},
   "outputs": [
    {
     "data": {
      "text/plain": [
       "array([-6.86996745e+02,  9.09614710e+01,  1.92084522e-01])"
      ]
     },
     "execution_count": 17,
     "metadata": {},
     "output_type": "execute_result"
    }
   ],
   "source": [
    "model_lr.coef_"
   ]
  },
  {
   "cell_type": "code",
   "execution_count": 19,
   "metadata": {},
   "outputs": [
    {
     "name": "stdout",
     "output_type": "stream",
     "text": [
      "切片の値は490.0391179557603\n"
     ]
    }
   ],
   "source": [
    "print('切片の値は{}'.format(model_lr.intercept_))"
   ]
  },
  {
   "cell_type": "code",
   "execution_count": null,
   "metadata": {},
   "outputs": [],
   "source": []
  }
 ],
 "metadata": {
  "kernelspec": {
   "display_name": "Python 3",
   "language": "python",
   "name": "python3"
  },
  "language_info": {
   "codemirror_mode": {
    "name": "ipython",
    "version": 3
   },
   "file_extension": ".py",
   "mimetype": "text/x-python",
   "name": "python",
   "nbconvert_exporter": "python",
   "pygments_lexer": "ipython3",
   "version": "3.7.3"
  }
 },
 "nbformat": 4,
 "nbformat_minor": 2
}
